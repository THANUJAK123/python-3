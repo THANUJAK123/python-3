{
 "cells": [
  {
   "cell_type": "markdown",
   "metadata": {},
   "source": [
    "### 1:equal or not"
   ]
  },
  {
   "cell_type": "code",
   "execution_count": 4,
   "metadata": {},
   "outputs": [
    {
     "name": "stdout",
     "output_type": "stream",
     "text": [
      "enter two values: 4 5\n",
      "False\n"
     ]
    }
   ],
   "source": [
    "a,b=input('enter two values: ').split()\n",
    "c=a==b\n",
    "print(c)"
   ]
  },
  {
   "cell_type": "markdown",
   "metadata": {},
   "source": [
    "### 2 all are equal and any two are equal"
   ]
  },
  {
   "cell_type": "code",
   "execution_count": 7,
   "metadata": {},
   "outputs": [
    {
     "name": "stdout",
     "output_type": "stream",
     "text": [
      "enter values of x,y,z:2 2 2\n",
      "all are equal\n"
     ]
    }
   ],
   "source": [
    "x,y,z=input('enter values of x,y,z:').split()\n",
    "if x==y and y==z and z==x:\n",
    "    print(\"all are equal\")\n",
    "elif x==y or y==z or z==x:\n",
    "    print('any two are equal')\n",
    "else:\n",
    "    print('not equal')"
   ]
  },
  {
   "cell_type": "markdown",
   "metadata": {},
   "source": [
    "### 3:greater or less or equal to 5"
   ]
  },
  {
   "cell_type": "code",
   "execution_count": 27,
   "metadata": {},
   "outputs": [
    {
     "name": "stdout",
     "output_type": "stream",
     "text": [
      "enter value of a : 4\n",
      "enter value of b: 1\n",
      "sum is equal to 5\n"
     ]
    }
   ],
   "source": [
    "a=int(input('enter value of a : '))\n",
    "b=int(input('enter value of b: '))\n",
    "c=a+b\n",
    "if c>5:\n",
    "    print(\"sum is greater than 5\")\n",
    "elif c<5:\n",
    "    print(\"sum is less than 5\")\n",
    "else:\n",
    "    print(\"sum is equal to 5\")"
   ]
  },
  {
   "cell_type": "markdown",
   "metadata": {},
   "source": [
    "#### 4:greater or not"
   ]
  },
  {
   "cell_type": "code",
   "execution_count": 47,
   "metadata": {},
   "outputs": [
    {
     "name": "stdout",
     "output_type": "stream",
     "text": [
      "enter a value35\n",
      "not\n"
     ]
    }
   ],
   "source": [
    "a=int(input('enter a value'))\n",
    "if a>35:\n",
    "    print('it is greater than passing mark')\n",
    "else:\n",
    "    print('not')"
   ]
  },
  {
   "cell_type": "markdown",
   "metadata": {},
   "source": [
    "### 5:max of 3 num"
   ]
  },
  {
   "cell_type": "code",
   "execution_count": 22,
   "metadata": {},
   "outputs": [
    {
     "name": "stdout",
     "output_type": "stream",
     "text": [
      "a value:8 \n",
      "b value:5\n",
      "c value:6\n",
      "a is max\n"
     ]
    }
   ],
   "source": [
    "a=int(input('a value:'))\n",
    "b=int(input('b value:'))\n",
    "c=int(input('c value:'))\n",
    "if a>=b and a>=c:\n",
    " print('a is max')\n",
    "elif b>=a and b>=c:\n",
    " print('b is max')\n",
    "else:\n",
    "    print('c is max')"
   ]
  },
  {
   "cell_type": "code",
   "execution_count": null,
   "metadata": {},
   "outputs": [],
   "source": []
  }
 ],
 "metadata": {
  "kernelspec": {
   "display_name": "Python 3",
   "language": "python",
   "name": "python3"
  },
  "language_info": {
   "codemirror_mode": {
    "name": "ipython",
    "version": 3
   },
   "file_extension": ".py",
   "mimetype": "text/x-python",
   "name": "python",
   "nbconvert_exporter": "python",
   "pygments_lexer": "ipython3",
   "version": "3.7.6"
  }
 },
 "nbformat": 4,
 "nbformat_minor": 4
}
